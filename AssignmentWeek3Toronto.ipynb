{
 "cells": [
  {
   "cell_type": "markdown",
   "metadata": {},
   "source": [
    "Pandas is used to read the table in this data scraping task.\n",
    "\n",
    "Data is processed as the instruction of the assignment:\n",
    "- The dataframe consists of three columns: PostalCode, Borough, and Neighborhood\n",
    "- Cells with a [Borough] that is 'Not assigned' are removed\n",
    "- All '/' are replaced with ',' in [Neighborhood] column\n",
    "- [Neighborhood] value is updated with the same as the [Borough] is that is 'Not assigned'.\n",
    "\n",
    "The output of this notebook is the shape of the dataframe."
   ]
  },
  {
   "cell_type": "code",
   "execution_count": 77,
   "metadata": {},
   "outputs": [],
   "source": [
    "import requests\n",
    "import pandas as pd"
   ]
  },
  {
   "cell_type": "code",
   "execution_count": 160,
   "metadata": {},
   "outputs": [],
   "source": [
    "# scrape the table from the website provided\n",
    "url = 'https://en.wikipedia.org/wiki/List_of_postal_codes_of_Canada:_M'\n",
    "html = requests.get(url).content\n",
    "df_table = pd.read_html(html)[0]\n",
    "\n",
    "# update column names\n",
    "df_table.columns=df_table.iloc[0]\n",
    "df_table=df_table.iloc[1:]\n",
    "\n",
    "# data pre-processing\n",
    "df_table.drop(df_table[df_table['Borough']=='Not assigned'].index,inplace=True)\n",
    "df_table.groupby('Postal code')['Neighborhood'].apply(', '.join)\n",
    "df_table.loc[df_table['Neighborhood'] == 'Not assigned', 'Neighborhood'] = df_table['Borough']\n",
    "# df_table=df_table.apply(lambda x: x.str.replace(' /',','))\n",
    "df_table['Neighborhood']=df_table['Neighborhood'].str.replace(' /',',')\n",
    "\n",
    "# update index\n",
    "df_table.set_index(['Postal code'], inplace = True,append = True, drop = True) \n",
    "df_table.reset_index(inplace = True)\n",
    "df_table=df_table.drop(columns=['level_0'])"
   ]
  },
  {
   "cell_type": "code",
   "execution_count": 163,
   "metadata": {},
   "outputs": [
    {
     "output_type": "stream",
     "name": "stdout",
     "text": "(103, 3)\n"
    }
   ],
   "source": [
    "print(df_table.shape)\n",
    "# df_table.to_csv('NeighbourhoodToronto.csv')"
   ]
  },
  {
   "cell_type": "code",
   "execution_count": null,
   "metadata": {},
   "outputs": [],
   "source": []
  },
  {
   "cell_type": "code",
   "execution_count": null,
   "metadata": {},
   "outputs": [],
   "source": []
  }
 ],
 "metadata": {
  "language_info": {
   "codemirror_mode": {
    "name": "ipython",
    "version": 3
   },
   "file_extension": ".py",
   "mimetype": "text/x-python",
   "name": "python",
   "nbconvert_exporter": "python",
   "pygments_lexer": "ipython3",
   "version": "3.6.5-final"
  },
  "orig_nbformat": 2,
  "kernelspec": {
   "name": "python36564bitc1f9eb95a16e4167862d8f75068c8401",
   "display_name": "Python 3.6.5 64-bit"
  }
 },
 "nbformat": 4,
 "nbformat_minor": 2
}