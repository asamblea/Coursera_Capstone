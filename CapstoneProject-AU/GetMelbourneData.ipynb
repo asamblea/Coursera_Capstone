{
 "cells": [
  {
   "cell_type": "code",
   "execution_count": 11,
   "metadata": {},
   "outputs": [],
   "source": [
    "import requests\n",
    "import pandas as pd\n",
    "import numpy as np\n",
    "\n",
    "import certifi\n",
    "import ssl\n",
    "import geopy.geocoders\n",
    "from geopy.geocoders import Nominatim\n",
    "ctx = ssl.create_default_context(cafile=certifi.where())\n",
    "geopy.geocoders.options.default_ssl_context = ctx\n",
    "\n",
    "import folium\n",
    "\n",
    "import json # library to handle JSON files\n",
    "from pandas.io.json import json_normalize # tranform JSON file into a pandas dataframe\n"
   ]
  },
  {
   "cell_type": "code",
   "execution_count": 12,
   "metadata": {},
   "outputs": [],
   "source": [
    "# import geocoder # import geocoder\n",
    "\n",
    "# p = 8507\n",
    "# lat_lng_coords = None\n",
    "# while(lat_lng_coords is None):\n",
    "#     g = geocoder.google('{}, Carlton, Melbourne'.format(p))\n",
    "#     lat_lng_coords = g.latlng\n",
    "#     print(lat_lng_coords)"
   ]
  },
  {
   "cell_type": "code",
   "execution_count": 13,
   "metadata": {
    "tags": [
     "outputPrepend"
    ]
   },
   "outputs": [],
   "source": [
    "# just copy suburbs from <https://en.wikipedia.org/wiki/City_of_Melbourne>\n",
    "\n",
    "suburbs_melbourne = ['Carlton', 'Carlton North', 'Docklands', 'East Melbourne', 'Flemington', 'Kensington','Melbourne CBD', 'North Melbourne', 'Port Melbourne', 'Parkville', 'Southbank', 'South Wharf', 'South Yarra', 'West Melbourne']"
   ]
  },
  {
   "cell_type": "code",
   "execution_count": 14,
   "metadata": {
    "tags": [
     "outputPrepend"
    ]
   },
   "outputs": [
    {
     "output_type": "execute_result",
     "data": {
      "text/plain": "                       address           Suburb     Region\n0           Carlton, Melbourne          Carlton  Melbourne\n1     Carlton North, Melbourne    Carlton North  Melbourne\n2         Docklands, Melbourne        Docklands  Melbourne\n3    East Melbourne, Melbourne   East Melbourne  Melbourne\n4        Flemington, Melbourne       Flemington  Melbourne\n5        Kensington, Melbourne       Kensington  Melbourne\n6     Melbourne CBD, Melbourne    Melbourne CBD  Melbourne\n7   North Melbourne, Melbourne  North Melbourne  Melbourne\n8    Port Melbourne, Melbourne   Port Melbourne  Melbourne\n9         Parkville, Melbourne        Parkville  Melbourne\n10        Southbank, Melbourne        Southbank  Melbourne\n11      South Wharf, Melbourne      South Wharf  Melbourne\n12      South Yarra, Melbourne      South Yarra  Melbourne\n13   West Melbourne, Melbourne   West Melbourne  Melbourne",
      "text/html": "<div>\n<style scoped>\n    .dataframe tbody tr th:only-of-type {\n        vertical-align: middle;\n    }\n\n    .dataframe tbody tr th {\n        vertical-align: top;\n    }\n\n    .dataframe thead th {\n        text-align: right;\n    }\n</style>\n<table border=\"1\" class=\"dataframe\">\n  <thead>\n    <tr style=\"text-align: right;\">\n      <th></th>\n      <th>address</th>\n      <th>Suburb</th>\n      <th>Region</th>\n    </tr>\n  </thead>\n  <tbody>\n    <tr>\n      <th>0</th>\n      <td>Carlton, Melbourne</td>\n      <td>Carlton</td>\n      <td>Melbourne</td>\n    </tr>\n    <tr>\n      <th>1</th>\n      <td>Carlton North, Melbourne</td>\n      <td>Carlton North</td>\n      <td>Melbourne</td>\n    </tr>\n    <tr>\n      <th>2</th>\n      <td>Docklands, Melbourne</td>\n      <td>Docklands</td>\n      <td>Melbourne</td>\n    </tr>\n    <tr>\n      <th>3</th>\n      <td>East Melbourne, Melbourne</td>\n      <td>East Melbourne</td>\n      <td>Melbourne</td>\n    </tr>\n    <tr>\n      <th>4</th>\n      <td>Flemington, Melbourne</td>\n      <td>Flemington</td>\n      <td>Melbourne</td>\n    </tr>\n    <tr>\n      <th>5</th>\n      <td>Kensington, Melbourne</td>\n      <td>Kensington</td>\n      <td>Melbourne</td>\n    </tr>\n    <tr>\n      <th>6</th>\n      <td>Melbourne CBD, Melbourne</td>\n      <td>Melbourne CBD</td>\n      <td>Melbourne</td>\n    </tr>\n    <tr>\n      <th>7</th>\n      <td>North Melbourne, Melbourne</td>\n      <td>North Melbourne</td>\n      <td>Melbourne</td>\n    </tr>\n    <tr>\n      <th>8</th>\n      <td>Port Melbourne, Melbourne</td>\n      <td>Port Melbourne</td>\n      <td>Melbourne</td>\n    </tr>\n    <tr>\n      <th>9</th>\n      <td>Parkville, Melbourne</td>\n      <td>Parkville</td>\n      <td>Melbourne</td>\n    </tr>\n    <tr>\n      <th>10</th>\n      <td>Southbank, Melbourne</td>\n      <td>Southbank</td>\n      <td>Melbourne</td>\n    </tr>\n    <tr>\n      <th>11</th>\n      <td>South Wharf, Melbourne</td>\n      <td>South Wharf</td>\n      <td>Melbourne</td>\n    </tr>\n    <tr>\n      <th>12</th>\n      <td>South Yarra, Melbourne</td>\n      <td>South Yarra</td>\n      <td>Melbourne</td>\n    </tr>\n    <tr>\n      <th>13</th>\n      <td>West Melbourne, Melbourne</td>\n      <td>West Melbourne</td>\n      <td>Melbourne</td>\n    </tr>\n  </tbody>\n</table>\n</div>"
     },
     "metadata": {},
     "execution_count": 14
    }
   ],
   "source": [
    "df_suburbs_melbourne=pd.DataFrame(suburbs_melbourne, columns=['address'])\n",
    "# df_suburbs_melbourne.loc[(~df_suburbs_melbourne['address'].str.contains('New South Wales')),'address'] +=', New South Wales'\n",
    "# df_suburbs_melbourne['address'] = df_suburbs_melbourne['address'].str.replace(', Queensland','')\n",
    "# df_suburbs_melbourne=df_suburbs_melbourne.replace(regex=r'central business district', value='CBD')\n",
    "df_suburbs_melbourne['address'] += ', Melbourne'\n",
    "df_suburbs_melbourne[['Suburb','Region']] = df_suburbs_melbourne.address.str.split(\", \", expand=True,)\n",
    "# df_suburbs_melbourne.drop(df_suburbs_melbourne[df_suburbs_melbourne['Suburb'].str.contains('Council|Randwick|Woollahra')].index,inplace=True)\n",
    "\n",
    "df_suburbs_melbourne\n"
   ]
  },
  {
   "cell_type": "code",
   "execution_count": 15,
   "metadata": {
    "tags": [
     "outputPrepend",
     "outputPrepend",
     "outputPrepend",
     "outputPrepend",
     "outputPrepend",
     "outputPrepend",
     "outputPrepend",
     "outputPrepend",
     "outputPrepend",
     "outputPrepend",
     "outputPrepend",
     "outputPrepend",
     "outputPrepend",
     "outputPrepend",
     "outputPrepend",
     "outputPrepend",
     "outputPrepend",
     "outputPrepend",
     "outputPrepend",
     "outputPrepend",
     "outputPrepend",
     "outputPrepend",
     "outputPrepend",
     "outputPrepend",
     "outputPrepend",
     "outputPrepend",
     "outputPrepend",
     "outputPrepend",
     "outputPrepend",
     "outputPrepend",
     "outputPrepend",
     "outputPrepend",
     "outputPrepend",
     "outputPrepend",
     "outputPrepend",
     "outputPrepend",
     "outputPrepend",
     "outputPrepend",
     "outputPrepend",
     "outputPrepend",
     "outputPrepend",
     "outputPrepend",
     "outputPrepend",
     "outputPrepend"
    ]
   },
   "outputs": [],
   "source": [
    "# print and save geolocations of suburbs\n",
    "# geolocation got using Nominatim is different from \n",
    "\n",
    "# latitudes =[]\n",
    "# longitudes =[]\n",
    "\n",
    "# for address in df_suburbs_melbourne['address']:\n",
    "#     geolocator = Nominatim(user_agent=\"melbourne_explorer\",timeout=10)\n",
    "#     location = geolocator.geocode(address) \n",
    "#     print(location)\n",
    "#     latitude = location.latitude if location != None else 'NF'\n",
    "#     longitude = location.longitude if location != None else 'NF'\n",
    "#     print('The geograpical coordinate of {} are {}, {}.'.format(address, latitude, longitude))\n",
    "#     latitudes.append(latitude)\n",
    "#     longitudes.append(longitude)\n",
    "\n",
    "# print(latitudes)\n",
    "# print(longitudes)\n",
    "\n",
    "latitudes = [-37.8142176, -37.8142176, -37.8175423, -37.812498, -37.7867587, -37.7939378, -37.8141823, -37.8076092, 'NF', -37.7871148, -37.8253618, -37.8253279, 'NF', -37.81044755]\n",
    "\n",
    "longitudes = [144.9631608, 144.9631608, 144.9394923, 144.9858851, 144.9193668, 144.9305645, 144.9598007, 144.9423514, 'NF', 144.9515533, 144.9640203, 144.9493432, 'NF', 144.92042979350134]"
   ]
  },
  {
   "cell_type": "code",
   "execution_count": 16,
   "metadata": {},
   "outputs": [],
   "source": [
    "df_suburbs_melbourne=df_suburbs_melbourne.drop(columns=['address'])"
   ]
  },
  {
   "cell_type": "code",
   "execution_count": 17,
   "metadata": {},
   "outputs": [
    {
     "output_type": "execute_result",
     "data": {
      "text/plain": "            Suburb             Region Latitude Longitude\n8   Port Melbourne  City of melbourne       NF        NF\n12     South Yarra  City of melbourne       NF        NF",
      "text/html": "<div>\n<style scoped>\n    .dataframe tbody tr th:only-of-type {\n        vertical-align: middle;\n    }\n\n    .dataframe tbody tr th {\n        vertical-align: top;\n    }\n\n    .dataframe thead th {\n        text-align: right;\n    }\n</style>\n<table border=\"1\" class=\"dataframe\">\n  <thead>\n    <tr style=\"text-align: right;\">\n      <th></th>\n      <th>Suburb</th>\n      <th>Region</th>\n      <th>Latitude</th>\n      <th>Longitude</th>\n    </tr>\n  </thead>\n  <tbody>\n    <tr>\n      <th>8</th>\n      <td>Port Melbourne</td>\n      <td>City of melbourne</td>\n      <td>NF</td>\n      <td>NF</td>\n    </tr>\n    <tr>\n      <th>12</th>\n      <td>South Yarra</td>\n      <td>City of melbourne</td>\n      <td>NF</td>\n      <td>NF</td>\n    </tr>\n  </tbody>\n</table>\n</div>"
     },
     "metadata": {},
     "execution_count": 17
    }
   ],
   "source": [
    "df_suburbs_melbourne['Latitude'] = latitudes\n",
    "df_suburbs_melbourne['Longitude'] = longitudes\n",
    "df_suburbs_melbourne['Region'] = 'City of melbourne'\n",
    "df_suburbs_melbourne=df_suburbs_melbourne.reset_index(drop=True)\n",
    "\n",
    "# find NF\n",
    "df_suburbs_melbourne.loc[df_suburbs_melbourne['Latitude'] == 'NF']\n"
   ]
  },
  {
   "cell_type": "code",
   "execution_count": 22,
   "metadata": {},
   "outputs": [
    {
     "output_type": "execute_result",
     "data": {
      "text/plain": "             Suburb             Region  Latitude Longitude\n0           Carlton  City of melbourne  -37.8001  144.9671\n1     Carlton North  City of melbourne  -37.7888  144.9720\n2         Docklands  City of melbourne  -37.8175   144.939\n3    East Melbourne  City of melbourne  -37.8125   144.986\n4        Flemington  City of melbourne  -37.7868   144.919\n5        Kensington  City of melbourne  -37.7939   144.931\n6     Melbourne CBD  City of melbourne  -37.8142    144.96\n7   North Melbourne  City of melbourne  -37.8076   144.942\n8    Port Melbourne  City of melbourne  -37.8332  144.9125\n9         Parkville  City of melbourne  -37.7871   144.952\n10        Southbank  City of melbourne  -37.8254   144.964\n11      South Wharf  City of melbourne  -37.8253   144.949\n12      South Yarra  City of melbourne  -37.8400  144.9890\n13   West Melbourne  City of melbourne  -37.8104    144.92",
      "text/html": "<div>\n<style scoped>\n    .dataframe tbody tr th:only-of-type {\n        vertical-align: middle;\n    }\n\n    .dataframe tbody tr th {\n        vertical-align: top;\n    }\n\n    .dataframe thead th {\n        text-align: right;\n    }\n</style>\n<table border=\"1\" class=\"dataframe\">\n  <thead>\n    <tr style=\"text-align: right;\">\n      <th></th>\n      <th>Suburb</th>\n      <th>Region</th>\n      <th>Latitude</th>\n      <th>Longitude</th>\n    </tr>\n  </thead>\n  <tbody>\n    <tr>\n      <th>0</th>\n      <td>Carlton</td>\n      <td>City of melbourne</td>\n      <td>-37.8001</td>\n      <td>144.9671</td>\n    </tr>\n    <tr>\n      <th>1</th>\n      <td>Carlton North</td>\n      <td>City of melbourne</td>\n      <td>-37.7888</td>\n      <td>144.9720</td>\n    </tr>\n    <tr>\n      <th>2</th>\n      <td>Docklands</td>\n      <td>City of melbourne</td>\n      <td>-37.8175</td>\n      <td>144.939</td>\n    </tr>\n    <tr>\n      <th>3</th>\n      <td>East Melbourne</td>\n      <td>City of melbourne</td>\n      <td>-37.8125</td>\n      <td>144.986</td>\n    </tr>\n    <tr>\n      <th>4</th>\n      <td>Flemington</td>\n      <td>City of melbourne</td>\n      <td>-37.7868</td>\n      <td>144.919</td>\n    </tr>\n    <tr>\n      <th>5</th>\n      <td>Kensington</td>\n      <td>City of melbourne</td>\n      <td>-37.7939</td>\n      <td>144.931</td>\n    </tr>\n    <tr>\n      <th>6</th>\n      <td>Melbourne CBD</td>\n      <td>City of melbourne</td>\n      <td>-37.8142</td>\n      <td>144.96</td>\n    </tr>\n    <tr>\n      <th>7</th>\n      <td>North Melbourne</td>\n      <td>City of melbourne</td>\n      <td>-37.8076</td>\n      <td>144.942</td>\n    </tr>\n    <tr>\n      <th>8</th>\n      <td>Port Melbourne</td>\n      <td>City of melbourne</td>\n      <td>-37.8332</td>\n      <td>144.9125</td>\n    </tr>\n    <tr>\n      <th>9</th>\n      <td>Parkville</td>\n      <td>City of melbourne</td>\n      <td>-37.7871</td>\n      <td>144.952</td>\n    </tr>\n    <tr>\n      <th>10</th>\n      <td>Southbank</td>\n      <td>City of melbourne</td>\n      <td>-37.8254</td>\n      <td>144.964</td>\n    </tr>\n    <tr>\n      <th>11</th>\n      <td>South Wharf</td>\n      <td>City of melbourne</td>\n      <td>-37.8253</td>\n      <td>144.949</td>\n    </tr>\n    <tr>\n      <th>12</th>\n      <td>South Yarra</td>\n      <td>City of melbourne</td>\n      <td>-37.8400</td>\n      <td>144.9890</td>\n    </tr>\n    <tr>\n      <th>13</th>\n      <td>West Melbourne</td>\n      <td>City of melbourne</td>\n      <td>-37.8104</td>\n      <td>144.92</td>\n    </tr>\n  </tbody>\n</table>\n</div>"
     },
     "metadata": {},
     "execution_count": 22
    }
   ],
   "source": [
    "# fill NF\n",
    "df_suburbs_melbourne.loc[df_suburbs_melbourne['Suburb'] == 'Port Melbourne', ['Latitude', 'Longitude']] = '-37.8332', '144.9125'\n",
    "df_suburbs_melbourne.loc[df_suburbs_melbourne['Suburb'] == 'South Yarra' , ['Latitude', 'Longitude']] = '-37.8400', '144.9890'\n",
    "# correct latitude and longitude\n",
    "df_suburbs_melbourne.loc[df_suburbs_melbourne['Suburb'] == 'Carlton North' , ['Latitude', 'Longitude']] = '-37.7888', '144.9720'\n",
    "df_suburbs_melbourne.loc[df_suburbs_melbourne['Suburb'] == 'Carlton' , ['Latitude', 'Longitude']] = '-37.8001', '144.9671'\n",
    "\n",
    "df_suburbs_melbourne.to_csv('suburbs_melbourne.csv')\n",
    "df_suburbs_melbourne"
   ]
  },
  {
   "cell_type": "code",
   "execution_count": 21,
   "metadata": {},
   "outputs": [
    {
     "output_type": "stream",
     "name": "stdout",
     "text": "The geograpical coordinate of melbourne are -37.8142176, 144.9631608.\n"
    },
    {
     "output_type": "execute_result",
     "data": {
      "text/plain": "<folium.folium.Map at 0x106a1b668>",
      "text/html": "<div style=\"width:100%;\"><div style=\"position:relative;width:100%;height:0;padding-bottom:60%;\"><iframe src=\"about:blank\" style=\"position:absolute;width:100%;height:100%;left:0;top:0;border:none !important;\" data-html=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 onload=\"this.contentDocument.open();this.contentDocument.write(atob(this.getAttribute('data-html')));this.contentDocument.close();\" allowfullscreen webkitallowfullscreen mozallowfullscreen></iframe></div></div>"
     },
     "metadata": {},
     "execution_count": 21
    }
   ],
   "source": [
    "address = 'City of melbourne, Australia'\n",
    "\n",
    "geolocator = Nominatim(user_agent=\"melbourne_explorer\")\n",
    "location = geolocator.geocode(address)\n",
    "melbourne_latitude = location.latitude\n",
    "melbourne_longitude = location.longitude\n",
    "print('The geograpical coordinate of melbourne are {}, {}.'.format(melbourne_latitude, melbourne_longitude))\n",
    "\n",
    "# create map of melbourne using latitude and longitude values\n",
    "map_melbourne = folium.Map(location=[melbourne_latitude, melbourne_longitude], zoom_start=12)\n",
    "\n",
    "# add markers to map\n",
    "for lat, lng, region, suburb in zip(df_suburbs_melbourne['Latitude'], df_suburbs_melbourne['Longitude'], df_suburbs_melbourne['Region'], df_suburbs_melbourne['Suburb']):\n",
    "    label = '{}, {}'.format(suburb, region)\n",
    "    label = folium.Popup(label, parse_html=True)\n",
    "    folium.CircleMarker(\n",
    "        [lat, lng],\n",
    "        radius=5,\n",
    "        popup=label,\n",
    "        color='blue',\n",
    "        fill=True,\n",
    "        fill_color='#3186cc',\n",
    "        fill_opacity=0.7,\n",
    "        parse_html=False).add_to(map_melbourne)\n",
    "\n",
    "map_melbourne"
   ]
  },
  {
   "cell_type": "code",
   "execution_count": null,
   "metadata": {},
   "outputs": [],
   "source": []
  }
 ],
 "metadata": {
  "language_info": {
   "codemirror_mode": {
    "name": "ipython",
    "version": 3
   },
   "file_extension": ".py",
   "mimetype": "text/x-python",
   "name": "python",
   "nbconvert_exporter": "python",
   "pygments_lexer": "ipython3",
   "version": "3.6.5-final"
  },
  "orig_nbformat": 2,
  "kernelspec": {
   "name": "python36564bitc1f9eb95a16e4167862d8f75068c8401",
   "display_name": "Python 3.6.5 64-bit"
  }
 },
 "nbformat": 4,
 "nbformat_minor": 2
}