{
 "cells": [
  {
   "cell_type": "markdown",
   "metadata": {},
   "source": [
    "## 1 Introduction \n",
    "\n",
    "International and domestic travel movements and oversea students are significantly disrupted due to the outbreak of COVID-19. In February 2020, overseas visitor arrivals to Australia decreased 26% compared to the same month a year ago.  \n",
    "\n",
    "Tourism and international students in Australia are an important component of the Australian economy. Tourism consists of domestic and international components and the contribution was a record \\$44.6 billion in 2019. International education was worth \\$32.4 billion to the Australian economy in 2017–18.  \n",
    "\n",
    "The economy, international and domestic movements are expected to rebound as the pandemic finishes. This report explores the neighbourhoods in three popular Australian local government areas (LGA) and nine capital cities of selected countries and makes recommendations for tourists, international students and people who are going to move around in Australia. \n",
    "\n",
    "This report presents the similarity and dissimilarity among the twelve areas by analysing venues in neighbourhoods. Neighbourhoods are grouped into clusters based on venue categories by using K-means clustering algorithm."
   ]
  },
  {
   "cell_type": "markdown",
   "metadata": {},
   "source": [
    "## 2 Dataset\n",
    "\n",
    "In 2019, New South Wales, Victoria and Queensland are the top 3 states in Australia for foreign enrolment and arrivals.    China, India, Nepal, Vietnam and Malaysia are the top 5 countries and regions sending students to Australia.  China, New Zealand, USA, UK and Japan are the top 5 source countries of short-term visitor arrivals in Australia. \n",
    "\n",
    "Neighbourhoods in the capital cities of the 9 countries are analysed together with the suburbs in the City of Sydney, the City of Melbourne and the City of Brisbane, as they have highest population density in New South Wales, Victoria and Queensland respectively. \n",
    "\n",
    "\n",
    "### Dataset description\n",
    "\n",
    "| Column Name   | Description       | Type  |\n",
    "| ------------- | ----------------- | ----- |\n",
    "| Suburb     | Suburb name   | str |\n",
    "| LGA      | LGA name  |  str |\n",
    "| Latitude | The latitude of the LGA  | float |\n",
    "| Longitude | The longitude of the LGA | float |\n",
    "| Venue | Venue name          | str|\n",
    "| Venue Latitude | The latitude of the venue | float |\n",
    "| Venue Longitude | The longitude of the venue |float |\n",
    "| Venue Category | The category of the LGA     | str|\n",
    "\n",
    "\n",
    "\n",
    "\n",
    "Source:\n",
    " \n",
    "1. The names of suburbs and LGAs are scraped from Wikipedia page. <https://en.wikipedia.org/wiki/City_of_Melbourne>, <https://en.wikipedia.org/wiki/City_of_Sydney>, <https://en.wikipedia.org/wiki/City_of_Brisbane>.\n",
    "\n",
    "2. The latitudes and longitudes are generated using GeoPy.\n",
    "\n",
    "3. The data of venues are collected by using Foursquare API\n"
   ]
  },
  {
   "cell_type": "markdown",
   "metadata": {},
   "source": [
    "## 3 Methodology\n",
    "\n",
    "Methodology section which represents the main component of the report where you discuss and describe any exploratory data analysis that you did, any inferential statistical testing that you performed, if any, and what machine learnings were used and why."
   ]
  },
  {
   "cell_type": "markdown",
   "metadata": {},
   "source": [
    "## 4 Results\n"
   ]
  },
  {
   "cell_type": "markdown",
   "metadata": {},
   "source": [
    "## 5 Discussion \n",
    "discuss any observations you noted and any recommendations you can make based on the results.\n"
   ]
  },
  {
   "cell_type": "markdown",
   "metadata": {},
   "source": [
    "## 6 Conclusion"
   ]
  }
 ],
 "metadata": {
  "language_info": {
   "codemirror_mode": {
    "name": "ipython",
    "version": 3
   },
   "file_extension": ".py",
   "mimetype": "text/x-python",
   "name": "python",
   "nbconvert_exporter": "python",
   "pygments_lexer": "ipython3",
   "version": "3.6.5-final"
  },
  "orig_nbformat": 2,
  "kernelspec": {
   "name": "python36564bitc1f9eb95a16e4167862d8f75068c8401",
   "display_name": "Python 3.6.5 64-bit"
  }
 },
 "nbformat": 4,
 "nbformat_minor": 2
}