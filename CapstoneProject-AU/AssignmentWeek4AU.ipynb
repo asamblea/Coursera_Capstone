{
 "cells": [
  {
   "cell_type": "markdown",
   "metadata": {},
   "source": [
    "### 1 Introduction \n",
    "\n",
    "Introduction where you discuss the business problem and who would be interested in this project.\n",
    "\n",
    "\n",
    "This document is the report of the Capstone Project - The Battle of Neighborhoods which explores three Australian local government areas (LGA), the City of Melbourne, the City of Sydney and the City of Brisbane and makes recommendations for tourisms, travelers and people who are going to move around. \n",
    "\n",
    "This report presents the similarity and dissimilarity among the three LGAs by analysing suburbs and venues in each suburb. Suburbs are grouped into clusters based on venue categories by using K-means clustering algorithm"
   ]
  },
  {
   "cell_type": "markdown",
   "metadata": {},
   "source": [
    "### 2 Dataset\n",
    "\n",
    "\n",
    "| Column Name   | Description       | Type  |\n",
    "| ------------- | ----------------- | ----- |\n",
    "| Suburb     | Suburb name   | str |\n",
    "| LGA      | LGA name  |  str |\n",
    "| Latitude | The latitude of the LGA  | float |\n",
    "| Longitude | The longitude of the LGA | float |\n",
    "| Venue | Venue name          | str|\n",
    "| Venue Latitude | The latitude of the venue | float |\n",
    "| Venue Longitude | The longitude of the venue |float |\n",
    "| Venue Category | The category of the LGA     | str|\n",
    "\n",
    "\n",
    "\n",
    "\n",
    "Source: \n",
    "1. The names of suburbs and LGAs are scraped from Wikipedia page. <https://en.wikipedia.org/wiki/City_of_Melbourne>, <https://en.wikipedia.org/wiki/City_of_Sydney>, <https://en.wikipedia.org/wiki/City_of_Brisbane>.\n",
    "\n",
    "2. The latitudes and longitudes are generated using GeoPy.\n",
    "\n",
    "3. The data of venues are collected by using Foursquare API\n"
   ]
  },
  {
   "cell_type": "markdown",
   "metadata": {},
   "source": [
    "### 3 Methodology\n",
    "\n",
    "Methodology section which represents the main component of the report where you discuss and describe any exploratory data analysis that you did, any inferential statistical testing that you performed, if any, and what machine learnings were used and why."
   ]
  },
  {
   "cell_type": "markdown",
   "metadata": {},
   "source": [
    "### 4 Results\n"
   ]
  },
  {
   "cell_type": "markdown",
   "metadata": {},
   "source": [
    "### 5 Discussion \n",
    "discuss any observations you noted and any recommendations you can make based on the results.\n"
   ]
  },
  {
   "cell_type": "markdown",
   "metadata": {},
   "source": [
    "### 6 Conclusion"
   ]
  }
 ],
 "metadata": {
  "language_info": {
   "codemirror_mode": {
    "name": "ipython",
    "version": 3
   },
   "file_extension": ".py",
   "mimetype": "text/x-python",
   "name": "python",
   "nbconvert_exporter": "python",
   "pygments_lexer": "ipython3",
   "version": "3.6.5-final"
  },
  "orig_nbformat": 2,
  "kernelspec": {
   "name": "python36564bitc1f9eb95a16e4167862d8f75068c8401",
   "display_name": "Python 3.6.5 64-bit"
  }
 },
 "nbformat": 4,
 "nbformat_minor": 2
}